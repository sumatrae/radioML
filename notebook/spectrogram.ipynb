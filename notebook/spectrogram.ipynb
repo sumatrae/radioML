{
 "cells": [
  {
   "cell_type": "code",
   "execution_count": 2,
   "metadata": {},
   "outputs": [],
   "source": [
    "%matplotlib inline"
   ]
  },
  {
   "cell_type": "code",
   "execution_count": 1,
   "metadata": {},
   "outputs": [
    {
     "data": {
      "text/plain": [
       "<Figure size 640x480 with 2 Axes>"
      ]
     },
     "metadata": {},
     "output_type": "display_data"
    }
   ],
   "source": [
    "# import the libraries\n",
    "import matplotlib.pyplot as plot\n",
    "import numpy as np\n",
    "\n",
    "\n",
    "# Define the list of frequencies\n",
    "frequencies         = np.arange(5,105,5)\n",
    "\n",
    "\n",
    "# Sampling Frequency\n",
    "samplingFrequency   = 400\n",
    "\n",
    "# Create two ndarrays\n",
    "s1 = np.empty([0]) # For samples\n",
    "s2 = np.empty([0]) # For signal\n",
    "\n",
    "\n",
    "# Start Value of the sample\n",
    "start   = 1\n",
    "\n",
    "# Stop Value of the sample\n",
    "stop    = samplingFrequency+1 \n",
    "\n",
    "for frequency in frequencies:\n",
    "    sub1 = np.arange(start, stop, 1)\n",
    "\n",
    "    # Signal - Sine wave with varying frequency + Noise\n",
    "    sub2 = np.sin(2*np.pi*sub1*frequency*1/samplingFrequency)+np.random.randn(len(sub1))\n",
    "    s1      = np.append(s1, sub1)\n",
    "    s2      = np.append(s2, sub2)\n",
    "    start   = stop+1\n",
    "    stop    = start+samplingFrequency \n",
    "\n",
    "# Plot the signal\n",
    "plot.subplot(211)\n",
    "plot.plot(s1,s2)\n",
    "plot.xlabel('Sample')\n",
    "plot.ylabel('Amplitude')\n",
    "\n",
    "# Plot the spectrogram\n",
    "plot.subplot(212)\n",
    "powerSpectrum, freqenciesFound, time, imageAxis = plot.specgram(s2, Fs=samplingFrequency)\n",
    "plot.xlabel('Time')\n",
    "plot.ylabel('Frequency')\n",
    "plot.show()   "
   ]
  },
  {
   "cell_type": "code",
   "execution_count": null,
   "metadata": {},
   "outputs": [],
   "source": []
  }
 ],
 "metadata": {
  "kernelspec": {
   "display_name": "Python 3",
   "language": "python",
   "name": "python3"
  },
  "language_info": {
   "codemirror_mode": {
    "name": "ipython",
    "version": 3
   },
   "file_extension": ".py",
   "mimetype": "text/x-python",
   "name": "python",
   "nbconvert_exporter": "python",
   "pygments_lexer": "ipython3",
   "version": "3.6.0"
  }
 },
 "nbformat": 4,
 "nbformat_minor": 2
}
